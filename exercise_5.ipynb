{
 "cells": [
  {
   "cell_type": "markdown",
   "metadata": {},
   "source": [
    "# 5. Algorithmic Question\n",
    "You are given a string written in english capital letters, for example S=\"CADFECEILGJHABNOPSTIRYOEABILCNR.\" You are asked to find the maximum length of a subsequence of characters that is in alfabetical order. For example, here a subsequence of characters in alphabetical order is the \"ACEGJSTY\": \"CADFECEILGJHABNOFPSTIRYOEABILCNR.\" Among all the possible such sequences, you are asked to find the one that is the longest.\n",
    "\n",
    "Define as X[i] = \"the length of the longest sequence of characters in alphabetical order that terminates at the i-th character\". One can prove that\n",
    "\n",
    "X[i] = 1 + max{X[j]; j = 0, ..., i-1, such that S[j]<S[i]}\n",
    "\n",
    "X[i] = 1, if there does not exist such a j.\n",
    "\n",
    "Write a recursive program that, given a string, computes the length of the subsequence of maximum length that is in alphabetical order. Try some examples. Are the examples of short strings correct? \n",
    "Can you find examples that your algorithm does not terminate in reasonable time?\n",
    "\n",
    "Show that the running time of the algorithm is exponential.\n",
    "\n",
    "Write a program that computes the length of the subsequence of maximum length, using dynamic programming.\n",
    "What is its runtime complexity?"
   ]
  },
  {
   "cell_type": "code",
   "execution_count": 6,
   "metadata": {},
   "outputs": [
    {
     "name": "stdout",
     "output_type": "stream",
     "text": [
      "10\n"
     ]
    }
   ],
   "source": [
    "#Recursive approach\n",
    "\n",
    "def rec(arr, i, n, pre):\n",
    " \n",
    "    #not hing is remaining\n",
    "    if i == n:\n",
    "        return 0\n",
    " \n",
    "    #  exclude the current element and process the others elements that remain\n",
    "    excl = rec(arr, i + 1, n, pre)\n",
    " \n",
    "    # include the current element if it is greater than previous element in the function calculated\n",
    "    incl = 0\n",
    "    if arr[i] > pre:\n",
    "        incl = 1 + rec(arr, i + 1, n, arr[i])\n",
    " \n",
    "    # return maximum \n",
    "    return max(incl, excl)\n",
    "\n",
    "stringa = \"CADFECEILGJHABNOFPSTIRYOEABILCNR\"\n",
    "#stringa2 = \"CADFECEILRINBTRMTVMRBYIUTYHOLIMNBDVJUKYHUJKUYVNJBYGJHABNOFPSTIRYOEACADFECEILRINBTRMTVMRBYIUTYHOLIMNBDVJUKYHUJKUYVNJBYGJHABNOFPSTIRYOEABILCNRCADFECEILRINBTRMTVMRBYIUTYHOLIMNBDVJUKYHUJKUYVNJBYGJHABNOFPSTIRYOEABILCNRCADFECEILRINBTRMTVMRBYIUTYHOLIMNBDVJUKYHUJKUYVNJBYGJHABNOFPSTIRYOEABILCNRCADFECEILRINBTRMTVMRBYIUTYHOLIMNBDVJUKYHUJKUYVNJBYGJHABNOFPSTIRYOEABILCNRCADFECEILRINBTRMTVMRBYIUTYHOLIMNBDVJUKYHUJKUYVNJBYGJHABNOFPSTIRYOEABILCNRCADFECEILRINBTRMTVMRBYIUTYHOLIMNBDVJUKYHUJKUYVNJBYGJHABNOFPSTIRYOEABILCNRCADFECEILRINBTRMTVMRBYIUTYHOLIMNBDVJUKYHUJKUYVNJBYGJHABNOFPSTIRYOEABILCNRCADFECEILRINBTRMTVMRBYIUTYHOLIMNBDVJUKYHUJKUYVNJBYGJHABNOFPSTIRYOEABILCNRCADFECEILRINBTRMTVMRBYIUTYHOLIMNBDVJUKYHUJKUYVNJBYGJHABNOFPSTIRYOEABILCNRCADFECEILRINBTRMTVMRBYIUTYHOLIMNBDVJUKYHUJKUYVNJBYGJHABNOFPSTIRYOEABILCNRCADFECEILRINBTRMTVMRBYIUTYHOLIMNBDVJUKYHUJKUYVNJBYGJHABNOFPSTIRYOEABILCNRCADFECEILRINBTRMTVMRBYIUTYHOLIMNBDVJUKYHUJKUYVNJBYGJHABNOFPSTIRYOEABILCNRCADFECEILRINBTRMTVMRBYIUTYHOLIMNBDVJUKYHUJKUYVNJBYGJHABNOFPSTIRYOEABILCNRCADFECEILRINBTRMTVMRBYIUTYHOLIMNBDVJUKYHUJKUYVNJBYGJHABNOFPSTIRYOEABILCNRCADFECEILRINBTRMTVMRBYIUTYHOLIMNBDVJUKYHUJKUYVNJBYGJHABNOFPSTIRYOEABILCNRBILCNR\"\n",
    "\n",
    "i = 0\n",
    "n = len(stringa)\n",
    "prev = stringa[i]\n",
    "res = rec(stringa,i,n,prev)\n",
    "print(res)\n",
    "\n",
    "\n",
    "#For a string of 1168 letters (stringa2) the execution does not terminate in reasonable time\n"
   ]
  },
  {
   "cell_type": "code",
   "execution_count": 26,
   "metadata": {},
   "outputs": [
    {
     "name": "stdout",
     "output_type": "stream",
     "text": [
      "11\n"
     ]
    }
   ],
   "source": [
    "#Dynamic approach\n",
    "\n",
    "def dyn_algo(stringa): \n",
    "    \n",
    "  \n",
    "    #This is a list inizialized by 1\n",
    "    lis = [1]*len(arr) \n",
    "  \n",
    "    # Compute optimized LIS values in bottom up manner \n",
    "    for i in range (1 , len(stringa)): \n",
    "        for j in range(0 , i): \n",
    "            if stringa[i] > stringa[j] and lis[i] < lis[j] + 1 : \n",
    "                lis[i] = lis[j]+1\n",
    "  \n",
    "    # This is the max value inizialized \n",
    "    maximum = 0\n",
    "  \n",
    "    # Let's take the max\n",
    "    for i in range(len(stringa)): \n",
    "        maximum = max(maximum , lis[i]) \n",
    "  \n",
    "    return maximum \n",
    "\n",
    "stringa = \"CADFECEILGJHABNOFPSTIRYOEABILCNR\"\n",
    "res = dyn_algo(stringa)\n",
    "print(res)\n"
   ]
  },
  {
   "cell_type": "markdown",
   "metadata": {},
   "source": [
    "About the running time and runtime complexity of the dynamic algorithm, we can see that the most repeated lines are the two inside the second \"for loop\". \n",
    "\n",
    "Applying the asymptotic analysis we can say that they have a repetition that is in the worst case: n(n+1)/2    -->   O( $n^{2}$ )\n",
    "\n",
    "So the complexity, considering the input n,  is quadratic."
   ]
  },
  {
   "cell_type": "code",
   "execution_count": null,
   "metadata": {
    "collapsed": true
   },
   "outputs": [],
   "source": []
  }
 ],
 "metadata": {
  "kernelspec": {
   "display_name": "Python 3",
   "language": "python",
   "name": "python3"
  },
  "language_info": {
   "codemirror_mode": {
    "name": "ipython",
    "version": 3
   },
   "file_extension": ".py",
   "mimetype": "text/x-python",
   "name": "python",
   "nbconvert_exporter": "python",
   "pygments_lexer": "ipython3",
   "version": "3.8.3"
  }
 },
 "nbformat": 4,
 "nbformat_minor": 4
}
